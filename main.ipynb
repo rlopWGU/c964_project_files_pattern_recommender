{
 "cells": [
  {
   "cell_type": "code",
   "execution_count": 1,
   "id": "6777ad7a-5168-4530-8ec9-7aa6f6b86926",
   "metadata": {},
   "outputs": [
    {
     "name": "stdout",
     "output_type": "stream",
     "text": [
      "Requirement already satisfied: import-ipynb in c:\\users\\raely\\appdata\\local\\programs\\python\\python312\\lib\\site-packages (0.2)\n",
      "Requirement already satisfied: IPython in c:\\users\\raely\\appdata\\local\\programs\\python\\python312\\lib\\site-packages (from import-ipynb) (8.32.0)\n",
      "Requirement already satisfied: nbformat in c:\\users\\raely\\appdata\\local\\programs\\python\\python312\\lib\\site-packages (from import-ipynb) (5.10.4)\n",
      "Requirement already satisfied: colorama in c:\\users\\raely\\appdata\\local\\programs\\python\\python312\\lib\\site-packages (from IPython->import-ipynb) (0.4.6)\n",
      "Requirement already satisfied: decorator in c:\\users\\raely\\appdata\\local\\programs\\python\\python312\\lib\\site-packages (from IPython->import-ipynb) (5.1.1)\n",
      "Requirement already satisfied: jedi>=0.16 in c:\\users\\raely\\appdata\\local\\programs\\python\\python312\\lib\\site-packages (from IPython->import-ipynb) (0.19.2)\n",
      "Requirement already satisfied: matplotlib-inline in c:\\users\\raely\\appdata\\local\\programs\\python\\python312\\lib\\site-packages (from IPython->import-ipynb) (0.1.7)\n",
      "Requirement already satisfied: prompt_toolkit<3.1.0,>=3.0.41 in c:\\users\\raely\\appdata\\local\\programs\\python\\python312\\lib\\site-packages (from IPython->import-ipynb) (3.0.50)\n",
      "Requirement already satisfied: pygments>=2.4.0 in c:\\users\\raely\\appdata\\local\\programs\\python\\python312\\lib\\site-packages (from IPython->import-ipynb) (2.19.1)\n",
      "Requirement already satisfied: stack_data in c:\\users\\raely\\appdata\\local\\programs\\python\\python312\\lib\\site-packages (from IPython->import-ipynb) (0.6.3)\n",
      "Requirement already satisfied: traitlets>=5.13.0 in c:\\users\\raely\\appdata\\local\\programs\\python\\python312\\lib\\site-packages (from IPython->import-ipynb) (5.14.3)\n",
      "Requirement already satisfied: fastjsonschema>=2.15 in c:\\users\\raely\\appdata\\local\\programs\\python\\python312\\lib\\site-packages (from nbformat->import-ipynb) (2.21.1)\n",
      "Requirement already satisfied: jsonschema>=2.6 in c:\\users\\raely\\appdata\\local\\programs\\python\\python312\\lib\\site-packages (from nbformat->import-ipynb) (4.23.0)\n",
      "Requirement already satisfied: jupyter-core!=5.0.*,>=4.12 in c:\\users\\raely\\appdata\\local\\programs\\python\\python312\\lib\\site-packages (from nbformat->import-ipynb) (5.7.2)\n",
      "Requirement already satisfied: parso<0.9.0,>=0.8.4 in c:\\users\\raely\\appdata\\local\\programs\\python\\python312\\lib\\site-packages (from jedi>=0.16->IPython->import-ipynb) (0.8.4)\n",
      "Requirement already satisfied: attrs>=22.2.0 in c:\\users\\raely\\appdata\\local\\programs\\python\\python312\\lib\\site-packages (from jsonschema>=2.6->nbformat->import-ipynb) (25.1.0)\n",
      "Requirement already satisfied: jsonschema-specifications>=2023.03.6 in c:\\users\\raely\\appdata\\local\\programs\\python\\python312\\lib\\site-packages (from jsonschema>=2.6->nbformat->import-ipynb) (2024.10.1)\n",
      "Requirement already satisfied: referencing>=0.28.4 in c:\\users\\raely\\appdata\\local\\programs\\python\\python312\\lib\\site-packages (from jsonschema>=2.6->nbformat->import-ipynb) (0.36.2)\n",
      "Requirement already satisfied: rpds-py>=0.7.1 in c:\\users\\raely\\appdata\\local\\programs\\python\\python312\\lib\\site-packages (from jsonschema>=2.6->nbformat->import-ipynb) (0.22.3)\n",
      "Requirement already satisfied: platformdirs>=2.5 in c:\\users\\raely\\appdata\\local\\programs\\python\\python312\\lib\\site-packages (from jupyter-core!=5.0.*,>=4.12->nbformat->import-ipynb) (4.3.6)\n",
      "Requirement already satisfied: pywin32>=300 in c:\\users\\raely\\appdata\\local\\programs\\python\\python312\\lib\\site-packages (from jupyter-core!=5.0.*,>=4.12->nbformat->import-ipynb) (308)\n",
      "Requirement already satisfied: wcwidth in c:\\users\\raely\\appdata\\local\\programs\\python\\python312\\lib\\site-packages (from prompt_toolkit<3.1.0,>=3.0.41->IPython->import-ipynb) (0.2.13)\n",
      "Requirement already satisfied: executing>=1.2.0 in c:\\users\\raely\\appdata\\local\\programs\\python\\python312\\lib\\site-packages (from stack_data->IPython->import-ipynb) (2.2.0)\n",
      "Requirement already satisfied: asttokens>=2.1.0 in c:\\users\\raely\\appdata\\local\\programs\\python\\python312\\lib\\site-packages (from stack_data->IPython->import-ipynb) (3.0.0)\n",
      "Requirement already satisfied: pure-eval in c:\\users\\raely\\appdata\\local\\programs\\python\\python312\\lib\\site-packages (from stack_data->IPython->import-ipynb) (0.2.3)\n",
      "Requirement already satisfied: typing-extensions>=4.4.0 in c:\\users\\raely\\appdata\\local\\programs\\python\\python312\\lib\\site-packages (from referencing>=0.28.4->jsonschema>=2.6->nbformat->import-ipynb) (4.12.2)\n",
      "Requirement already satisfied: import-ipynb in c:\\users\\raely\\appdata\\local\\programs\\python\\python312\\lib\\site-packages (0.2)\n",
      "Requirement already satisfied: IPython in c:\\users\\raely\\appdata\\local\\programs\\python\\python312\\lib\\site-packages (from import-ipynb) (8.32.0)\n",
      "Requirement already satisfied: nbformat in c:\\users\\raely\\appdata\\local\\programs\\python\\python312\\lib\\site-packages (from import-ipynb) (5.10.4)\n",
      "Requirement already satisfied: colorama in c:\\users\\raely\\appdata\\local\\programs\\python\\python312\\lib\\site-packages (from IPython->import-ipynb) (0.4.6)\n",
      "Requirement already satisfied: decorator in c:\\users\\raely\\appdata\\local\\programs\\python\\python312\\lib\\site-packages (from IPython->import-ipynb) (5.1.1)\n",
      "Requirement already satisfied: jedi>=0.16 in c:\\users\\raely\\appdata\\local\\programs\\python\\python312\\lib\\site-packages (from IPython->import-ipynb) (0.19.2)\n",
      "Requirement already satisfied: matplotlib-inline in c:\\users\\raely\\appdata\\local\\programs\\python\\python312\\lib\\site-packages (from IPython->import-ipynb) (0.1.7)\n",
      "Requirement already satisfied: prompt_toolkit<3.1.0,>=3.0.41 in c:\\users\\raely\\appdata\\local\\programs\\python\\python312\\lib\\site-packages (from IPython->import-ipynb) (3.0.50)\n",
      "Requirement already satisfied: pygments>=2.4.0 in c:\\users\\raely\\appdata\\local\\programs\\python\\python312\\lib\\site-packages (from IPython->import-ipynb) (2.19.1)\n",
      "Requirement already satisfied: stack_data in c:\\users\\raely\\appdata\\local\\programs\\python\\python312\\lib\\site-packages (from IPython->import-ipynb) (0.6.3)\n",
      "Requirement already satisfied: traitlets>=5.13.0 in c:\\users\\raely\\appdata\\local\\programs\\python\\python312\\lib\\site-packages (from IPython->import-ipynb) (5.14.3)\n",
      "Requirement already satisfied: fastjsonschema>=2.15 in c:\\users\\raely\\appdata\\local\\programs\\python\\python312\\lib\\site-packages (from nbformat->import-ipynb) (2.21.1)\n",
      "Requirement already satisfied: jsonschema>=2.6 in c:\\users\\raely\\appdata\\local\\programs\\python\\python312\\lib\\site-packages (from nbformat->import-ipynb) (4.23.0)\n",
      "Requirement already satisfied: jupyter-core!=5.0.*,>=4.12 in c:\\users\\raely\\appdata\\local\\programs\\python\\python312\\lib\\site-packages (from nbformat->import-ipynb) (5.7.2)\n",
      "Requirement already satisfied: parso<0.9.0,>=0.8.4 in c:\\users\\raely\\appdata\\local\\programs\\python\\python312\\lib\\site-packages (from jedi>=0.16->IPython->import-ipynb) (0.8.4)\n",
      "Requirement already satisfied: attrs>=22.2.0 in c:\\users\\raely\\appdata\\local\\programs\\python\\python312\\lib\\site-packages (from jsonschema>=2.6->nbformat->import-ipynb) (25.1.0)\n",
      "Requirement already satisfied: jsonschema-specifications>=2023.03.6 in c:\\users\\raely\\appdata\\local\\programs\\python\\python312\\lib\\site-packages (from jsonschema>=2.6->nbformat->import-ipynb) (2024.10.1)\n",
      "Requirement already satisfied: referencing>=0.28.4 in c:\\users\\raely\\appdata\\local\\programs\\python\\python312\\lib\\site-packages (from jsonschema>=2.6->nbformat->import-ipynb) (0.36.2)\n",
      "Requirement already satisfied: rpds-py>=0.7.1 in c:\\users\\raely\\appdata\\local\\programs\\python\\python312\\lib\\site-packages (from jsonschema>=2.6->nbformat->import-ipynb) (0.22.3)\n",
      "Requirement already satisfied: platformdirs>=2.5 in c:\\users\\raely\\appdata\\local\\programs\\python\\python312\\lib\\site-packages (from jupyter-core!=5.0.*,>=4.12->nbformat->import-ipynb) (4.3.6)\n",
      "Requirement already satisfied: pywin32>=300 in c:\\users\\raely\\appdata\\local\\programs\\python\\python312\\lib\\site-packages (from jupyter-core!=5.0.*,>=4.12->nbformat->import-ipynb) (308)\n",
      "Requirement already satisfied: wcwidth in c:\\users\\raely\\appdata\\local\\programs\\python\\python312\\lib\\site-packages (from prompt_toolkit<3.1.0,>=3.0.41->IPython->import-ipynb) (0.2.13)\n",
      "Requirement already satisfied: executing>=1.2.0 in c:\\users\\raely\\appdata\\local\\programs\\python\\python312\\lib\\site-packages (from stack_data->IPython->import-ipynb) (2.2.0)\n",
      "Requirement already satisfied: asttokens>=2.1.0 in c:\\users\\raely\\appdata\\local\\programs\\python\\python312\\lib\\site-packages (from stack_data->IPython->import-ipynb) (3.0.0)\n",
      "Requirement already satisfied: pure-eval in c:\\users\\raely\\appdata\\local\\programs\\python\\python312\\lib\\site-packages (from stack_data->IPython->import-ipynb) (0.2.3)\n",
      "Requirement already satisfied: typing-extensions>=4.4.0 in c:\\users\\raely\\appdata\\local\\programs\\python\\python312\\lib\\site-packages (from referencing>=0.28.4->jsonschema>=2.6->nbformat->import-ipynb) (4.12.2)\n",
      "Requirement already satisfied: import-ipynb in c:\\users\\raely\\appdata\\local\\programs\\python\\python312\\lib\\site-packages (0.2)\n",
      "Requirement already satisfied: IPython in c:\\users\\raely\\appdata\\local\\programs\\python\\python312\\lib\\site-packages (from import-ipynb) (8.32.0)\n",
      "Requirement already satisfied: nbformat in c:\\users\\raely\\appdata\\local\\programs\\python\\python312\\lib\\site-packages (from import-ipynb) (5.10.4)\n",
      "Requirement already satisfied: colorama in c:\\users\\raely\\appdata\\local\\programs\\python\\python312\\lib\\site-packages (from IPython->import-ipynb) (0.4.6)\n",
      "Requirement already satisfied: decorator in c:\\users\\raely\\appdata\\local\\programs\\python\\python312\\lib\\site-packages (from IPython->import-ipynb) (5.1.1)\n",
      "Requirement already satisfied: jedi>=0.16 in c:\\users\\raely\\appdata\\local\\programs\\python\\python312\\lib\\site-packages (from IPython->import-ipynb) (0.19.2)\n",
      "Requirement already satisfied: matplotlib-inline in c:\\users\\raely\\appdata\\local\\programs\\python\\python312\\lib\\site-packages (from IPython->import-ipynb) (0.1.7)\n",
      "Requirement already satisfied: prompt_toolkit<3.1.0,>=3.0.41 in c:\\users\\raely\\appdata\\local\\programs\\python\\python312\\lib\\site-packages (from IPython->import-ipynb) (3.0.50)\n",
      "Requirement already satisfied: pygments>=2.4.0 in c:\\users\\raely\\appdata\\local\\programs\\python\\python312\\lib\\site-packages (from IPython->import-ipynb) (2.19.1)\n",
      "Requirement already satisfied: stack_data in c:\\users\\raely\\appdata\\local\\programs\\python\\python312\\lib\\site-packages (from IPython->import-ipynb) (0.6.3)\n",
      "Requirement already satisfied: traitlets>=5.13.0 in c:\\users\\raely\\appdata\\local\\programs\\python\\python312\\lib\\site-packages (from IPython->import-ipynb) (5.14.3)\n",
      "Requirement already satisfied: fastjsonschema>=2.15 in c:\\users\\raely\\appdata\\local\\programs\\python\\python312\\lib\\site-packages (from nbformat->import-ipynb) (2.21.1)\n",
      "Requirement already satisfied: jsonschema>=2.6 in c:\\users\\raely\\appdata\\local\\programs\\python\\python312\\lib\\site-packages (from nbformat->import-ipynb) (4.23.0)\n",
      "Requirement already satisfied: jupyter-core!=5.0.*,>=4.12 in c:\\users\\raely\\appdata\\local\\programs\\python\\python312\\lib\\site-packages (from nbformat->import-ipynb) (5.7.2)\n",
      "Requirement already satisfied: parso<0.9.0,>=0.8.4 in c:\\users\\raely\\appdata\\local\\programs\\python\\python312\\lib\\site-packages (from jedi>=0.16->IPython->import-ipynb) (0.8.4)\n",
      "Requirement already satisfied: attrs>=22.2.0 in c:\\users\\raely\\appdata\\local\\programs\\python\\python312\\lib\\site-packages (from jsonschema>=2.6->nbformat->import-ipynb) (25.1.0)\n",
      "Requirement already satisfied: jsonschema-specifications>=2023.03.6 in c:\\users\\raely\\appdata\\local\\programs\\python\\python312\\lib\\site-packages (from jsonschema>=2.6->nbformat->import-ipynb) (2024.10.1)\n",
      "Requirement already satisfied: referencing>=0.28.4 in c:\\users\\raely\\appdata\\local\\programs\\python\\python312\\lib\\site-packages (from jsonschema>=2.6->nbformat->import-ipynb) (0.36.2)\n",
      "Requirement already satisfied: rpds-py>=0.7.1 in c:\\users\\raely\\appdata\\local\\programs\\python\\python312\\lib\\site-packages (from jsonschema>=2.6->nbformat->import-ipynb) (0.22.3)\n",
      "Requirement already satisfied: platformdirs>=2.5 in c:\\users\\raely\\appdata\\local\\programs\\python\\python312\\lib\\site-packages (from jupyter-core!=5.0.*,>=4.12->nbformat->import-ipynb) (4.3.6)\n",
      "Requirement already satisfied: pywin32>=300 in c:\\users\\raely\\appdata\\local\\programs\\python\\python312\\lib\\site-packages (from jupyter-core!=5.0.*,>=4.12->nbformat->import-ipynb) (308)\n",
      "Requirement already satisfied: wcwidth in c:\\users\\raely\\appdata\\local\\programs\\python\\python312\\lib\\site-packages (from prompt_toolkit<3.1.0,>=3.0.41->IPython->import-ipynb) (0.2.13)\n",
      "Requirement already satisfied: executing>=1.2.0 in c:\\users\\raely\\appdata\\local\\programs\\python\\python312\\lib\\site-packages (from stack_data->IPython->import-ipynb) (2.2.0)\n",
      "Requirement already satisfied: asttokens>=2.1.0 in c:\\users\\raely\\appdata\\local\\programs\\python\\python312\\lib\\site-packages (from stack_data->IPython->import-ipynb) (3.0.0)\n",
      "Requirement already satisfied: pure-eval in c:\\users\\raely\\appdata\\local\\programs\\python\\python312\\lib\\site-packages (from stack_data->IPython->import-ipynb) (0.2.3)\n",
      "Requirement already satisfied: typing-extensions>=4.4.0 in c:\\users\\raely\\appdata\\local\\programs\\python\\python312\\lib\\site-packages (from referencing>=0.28.4->jsonschema>=2.6->nbformat->import-ipynb) (4.12.2)\n",
      "Requirement already satisfied: selenium in c:\\users\\raely\\appdata\\local\\programs\\python\\python312\\lib\\site-packages (4.29.0)\n",
      "Requirement already satisfied: urllib3<3,>=1.26 in c:\\users\\raely\\appdata\\local\\programs\\python\\python312\\lib\\site-packages (from urllib3[socks]<3,>=1.26->selenium) (2.3.0)\n",
      "Requirement already satisfied: trio~=0.17 in c:\\users\\raely\\appdata\\local\\programs\\python\\python312\\lib\\site-packages (from selenium) (0.29.0)\n",
      "Requirement already satisfied: trio-websocket~=0.9 in c:\\users\\raely\\appdata\\local\\programs\\python\\python312\\lib\\site-packages (from selenium) (0.12.1)\n",
      "Requirement already satisfied: certifi>=2021.10.8 in c:\\users\\raely\\appdata\\local\\programs\\python\\python312\\lib\\site-packages (from selenium) (2025.1.31)\n",
      "Requirement already satisfied: typing_extensions~=4.9 in c:\\users\\raely\\appdata\\local\\programs\\python\\python312\\lib\\site-packages (from selenium) (4.12.2)\n",
      "Requirement already satisfied: websocket-client~=1.8 in c:\\users\\raely\\appdata\\local\\programs\\python\\python312\\lib\\site-packages (from selenium) (1.8.0)\n",
      "Requirement already satisfied: attrs>=23.2.0 in c:\\users\\raely\\appdata\\local\\programs\\python\\python312\\lib\\site-packages (from trio~=0.17->selenium) (25.1.0)\n",
      "Requirement already satisfied: sortedcontainers in c:\\users\\raely\\appdata\\local\\programs\\python\\python312\\lib\\site-packages (from trio~=0.17->selenium) (2.4.0)\n",
      "Requirement already satisfied: idna in c:\\users\\raely\\appdata\\local\\programs\\python\\python312\\lib\\site-packages (from trio~=0.17->selenium) (3.10)\n",
      "Requirement already satisfied: outcome in c:\\users\\raely\\appdata\\local\\programs\\python\\python312\\lib\\site-packages (from trio~=0.17->selenium) (1.3.0.post0)\n",
      "Requirement already satisfied: sniffio>=1.3.0 in c:\\users\\raely\\appdata\\local\\programs\\python\\python312\\lib\\site-packages (from trio~=0.17->selenium) (1.3.1)\n",
      "Requirement already satisfied: cffi>=1.14 in c:\\users\\raely\\appdata\\local\\programs\\python\\python312\\lib\\site-packages (from trio~=0.17->selenium) (1.17.1)\n",
      "Requirement already satisfied: wsproto>=0.14 in c:\\users\\raely\\appdata\\local\\programs\\python\\python312\\lib\\site-packages (from trio-websocket~=0.9->selenium) (1.2.0)\n",
      "Requirement already satisfied: pysocks!=1.5.7,<2.0,>=1.5.6 in c:\\users\\raely\\appdata\\local\\programs\\python\\python312\\lib\\site-packages (from urllib3[socks]<3,>=1.26->selenium) (1.7.1)\n",
      "Requirement already satisfied: pycparser in c:\\users\\raely\\appdata\\local\\programs\\python\\python312\\lib\\site-packages (from cffi>=1.14->trio~=0.17->selenium) (2.22)\n",
      "Requirement already satisfied: h11<1,>=0.9.0 in c:\\users\\raely\\appdata\\local\\programs\\python\\python312\\lib\\site-packages (from wsproto>=0.14->trio-websocket~=0.9->selenium) (0.14.0)\n",
      "Requirement already satisfied: nltk in c:\\users\\raely\\appdata\\local\\programs\\python\\python312\\lib\\site-packages (3.9.1)\n",
      "Requirement already satisfied: click in c:\\users\\raely\\appdata\\local\\programs\\python\\python312\\lib\\site-packages (from nltk) (8.1.8)\n",
      "Requirement already satisfied: joblib in c:\\users\\raely\\appdata\\local\\programs\\python\\python312\\lib\\site-packages (from nltk) (1.4.2)\n",
      "Requirement already satisfied: regex>=2021.8.3 in c:\\users\\raely\\appdata\\local\\programs\\python\\python312\\lib\\site-packages (from nltk) (2024.11.6)\n",
      "Requirement already satisfied: tqdm in c:\\users\\raely\\appdata\\local\\programs\\python\\python312\\lib\\site-packages (from nltk) (4.67.1)\n",
      "Requirement already satisfied: colorama in c:\\users\\raely\\appdata\\local\\programs\\python\\python312\\lib\\site-packages (from click->nltk) (0.4.6)\n"
     ]
    },
    {
     "name": "stderr",
     "output_type": "stream",
     "text": [
      "[nltk_data] Downloading package punkt to\n",
      "[nltk_data]     C:\\Users\\raely\\AppData\\Roaming\\nltk_data...\n",
      "[nltk_data]   Package punkt is already up-to-date!\n",
      "[nltk_data] Downloading package punkt_tab to\n",
      "[nltk_data]     C:\\Users\\raely\\AppData\\Roaming\\nltk_data...\n",
      "[nltk_data]   Package punkt_tab is already up-to-date!\n",
      "[nltk_data] Downloading package averaged_perceptron_tagger to\n",
      "[nltk_data]     C:\\Users\\raely\\AppData\\Roaming\\nltk_data...\n",
      "[nltk_data]   Package averaged_perceptron_tagger is already up-to-\n",
      "[nltk_data]       date!\n",
      "[nltk_data] Downloading package averaged_perceptron_tagger_eng to\n",
      "[nltk_data]     C:\\Users\\raely\\AppData\\Roaming\\nltk_data...\n",
      "[nltk_data]   Package averaged_perceptron_tagger_eng is already up-to-\n",
      "[nltk_data]       date!\n"
     ]
    },
    {
     "name": "stdout",
     "output_type": "stream",
     "text": [
      "Requirement already satisfied: scikit-learn in c:\\users\\raely\\appdata\\local\\programs\\python\\python312\\lib\\site-packages (1.6.1)\n",
      "Requirement already satisfied: numpy>=1.19.5 in c:\\users\\raely\\appdata\\local\\programs\\python\\python312\\lib\\site-packages (from scikit-learn) (1.26.4)\n",
      "Requirement already satisfied: scipy>=1.6.0 in c:\\users\\raely\\appdata\\local\\programs\\python\\python312\\lib\\site-packages (from scikit-learn) (1.13.1)\n",
      "Requirement already satisfied: joblib>=1.2.0 in c:\\users\\raely\\appdata\\local\\programs\\python\\python312\\lib\\site-packages (from scikit-learn) (1.4.2)\n",
      "Requirement already satisfied: threadpoolctl>=3.1.0 in c:\\users\\raely\\appdata\\local\\programs\\python\\python312\\lib\\site-packages (from scikit-learn) (3.5.0)\n",
      "Requirement already satisfied: numpy==1.26.4 in c:\\users\\raely\\appdata\\local\\programs\\python\\python312\\lib\\site-packages (1.26.4)\n",
      "Requirement already satisfied: scipy in c:\\users\\raely\\appdata\\local\\programs\\python\\python312\\lib\\site-packages (1.13.1)\n",
      "Requirement already satisfied: gensim in c:\\users\\raely\\appdata\\local\\programs\\python\\python312\\lib\\site-packages (4.3.3)\n",
      "Requirement already satisfied: numpy<2.3,>=1.22.4 in c:\\users\\raely\\appdata\\local\\programs\\python\\python312\\lib\\site-packages (from scipy) (1.26.4)\n",
      "Requirement already satisfied: smart-open>=1.8.1 in c:\\users\\raely\\appdata\\local\\programs\\python\\python312\\lib\\site-packages (from gensim) (7.1.0)\n",
      "Requirement already satisfied: wrapt in c:\\users\\raely\\appdata\\local\\programs\\python\\python312\\lib\\site-packages (from smart-open>=1.8.1->gensim) (1.17.2)\n",
      "Requirement already satisfied: matplotlib in c:\\users\\raely\\appdata\\local\\programs\\python\\python312\\lib\\site-packages (3.10.0)\n",
      "Requirement already satisfied: contourpy>=1.0.1 in c:\\users\\raely\\appdata\\local\\programs\\python\\python312\\lib\\site-packages (from matplotlib) (1.3.1)\n",
      "Requirement already satisfied: cycler>=0.10 in c:\\users\\raely\\appdata\\local\\programs\\python\\python312\\lib\\site-packages (from matplotlib) (0.12.1)\n",
      "Requirement already satisfied: fonttools>=4.22.0 in c:\\users\\raely\\appdata\\local\\programs\\python\\python312\\lib\\site-packages (from matplotlib) (4.56.0)\n",
      "Requirement already satisfied: kiwisolver>=1.3.1 in c:\\users\\raely\\appdata\\local\\programs\\python\\python312\\lib\\site-packages (from matplotlib) (1.4.8)\n",
      "Requirement already satisfied: numpy>=1.23 in c:\\users\\raely\\appdata\\local\\programs\\python\\python312\\lib\\site-packages (from matplotlib) (1.26.4)\n",
      "Requirement already satisfied: packaging>=20.0 in c:\\users\\raely\\appdata\\local\\programs\\python\\python312\\lib\\site-packages (from matplotlib) (24.2)\n",
      "Requirement already satisfied: pillow>=8 in c:\\users\\raely\\appdata\\local\\programs\\python\\python312\\lib\\site-packages (from matplotlib) (11.1.0)\n",
      "Requirement already satisfied: pyparsing>=2.3.1 in c:\\users\\raely\\appdata\\local\\programs\\python\\python312\\lib\\site-packages (from matplotlib) (3.2.1)\n",
      "Requirement already satisfied: python-dateutil>=2.7 in c:\\users\\raely\\appdata\\local\\programs\\python\\python312\\lib\\site-packages (from matplotlib) (2.9.0.post0)\n",
      "Requirement already satisfied: six>=1.5 in c:\\users\\raely\\appdata\\local\\programs\\python\\python312\\lib\\site-packages (from python-dateutil>=2.7->matplotlib) (1.17.0)\n",
      "Requirement already satisfied: rich in c:\\users\\raely\\appdata\\local\\programs\\python\\python312\\lib\\site-packages (13.9.4)\n",
      "Requirement already satisfied: markdown-it-py>=2.2.0 in c:\\users\\raely\\appdata\\local\\programs\\python\\python312\\lib\\site-packages (from rich) (3.0.0)\n",
      "Requirement already satisfied: pygments<3.0.0,>=2.13.0 in c:\\users\\raely\\appdata\\local\\programs\\python\\python312\\lib\\site-packages (from rich) (2.19.1)\n",
      "Requirement already satisfied: mdurl~=0.1 in c:\\users\\raely\\appdata\\local\\programs\\python\\python312\\lib\\site-packages (from markdown-it-py>=2.2.0->rich) (0.1.2)\n",
      "Requirement already satisfied: import-ipynb in c:\\users\\raely\\appdata\\local\\programs\\python\\python312\\lib\\site-packages (0.2)\n",
      "Requirement already satisfied: IPython in c:\\users\\raely\\appdata\\local\\programs\\python\\python312\\lib\\site-packages (from import-ipynb) (8.32.0)\n",
      "Requirement already satisfied: nbformat in c:\\users\\raely\\appdata\\local\\programs\\python\\python312\\lib\\site-packages (from import-ipynb) (5.10.4)\n",
      "Requirement already satisfied: colorama in c:\\users\\raely\\appdata\\local\\programs\\python\\python312\\lib\\site-packages (from IPython->import-ipynb) (0.4.6)\n",
      "Requirement already satisfied: decorator in c:\\users\\raely\\appdata\\local\\programs\\python\\python312\\lib\\site-packages (from IPython->import-ipynb) (5.1.1)\n",
      "Requirement already satisfied: jedi>=0.16 in c:\\users\\raely\\appdata\\local\\programs\\python\\python312\\lib\\site-packages (from IPython->import-ipynb) (0.19.2)\n",
      "Requirement already satisfied: matplotlib-inline in c:\\users\\raely\\appdata\\local\\programs\\python\\python312\\lib\\site-packages (from IPython->import-ipynb) (0.1.7)\n",
      "Requirement already satisfied: prompt_toolkit<3.1.0,>=3.0.41 in c:\\users\\raely\\appdata\\local\\programs\\python\\python312\\lib\\site-packages (from IPython->import-ipynb) (3.0.50)\n",
      "Requirement already satisfied: pygments>=2.4.0 in c:\\users\\raely\\appdata\\local\\programs\\python\\python312\\lib\\site-packages (from IPython->import-ipynb) (2.19.1)\n",
      "Requirement already satisfied: stack_data in c:\\users\\raely\\appdata\\local\\programs\\python\\python312\\lib\\site-packages (from IPython->import-ipynb) (0.6.3)\n",
      "Requirement already satisfied: traitlets>=5.13.0 in c:\\users\\raely\\appdata\\local\\programs\\python\\python312\\lib\\site-packages (from IPython->import-ipynb) (5.14.3)\n",
      "Requirement already satisfied: fastjsonschema>=2.15 in c:\\users\\raely\\appdata\\local\\programs\\python\\python312\\lib\\site-packages (from nbformat->import-ipynb) (2.21.1)\n",
      "Requirement already satisfied: jsonschema>=2.6 in c:\\users\\raely\\appdata\\local\\programs\\python\\python312\\lib\\site-packages (from nbformat->import-ipynb) (4.23.0)\n",
      "Requirement already satisfied: jupyter-core!=5.0.*,>=4.12 in c:\\users\\raely\\appdata\\local\\programs\\python\\python312\\lib\\site-packages (from nbformat->import-ipynb) (5.7.2)\n",
      "Requirement already satisfied: parso<0.9.0,>=0.8.4 in c:\\users\\raely\\appdata\\local\\programs\\python\\python312\\lib\\site-packages (from jedi>=0.16->IPython->import-ipynb) (0.8.4)\n",
      "Requirement already satisfied: attrs>=22.2.0 in c:\\users\\raely\\appdata\\local\\programs\\python\\python312\\lib\\site-packages (from jsonschema>=2.6->nbformat->import-ipynb) (25.1.0)\n",
      "Requirement already satisfied: jsonschema-specifications>=2023.03.6 in c:\\users\\raely\\appdata\\local\\programs\\python\\python312\\lib\\site-packages (from jsonschema>=2.6->nbformat->import-ipynb) (2024.10.1)\n",
      "Requirement already satisfied: referencing>=0.28.4 in c:\\users\\raely\\appdata\\local\\programs\\python\\python312\\lib\\site-packages (from jsonschema>=2.6->nbformat->import-ipynb) (0.36.2)\n",
      "Requirement already satisfied: rpds-py>=0.7.1 in c:\\users\\raely\\appdata\\local\\programs\\python\\python312\\lib\\site-packages (from jsonschema>=2.6->nbformat->import-ipynb) (0.22.3)\n",
      "Requirement already satisfied: platformdirs>=2.5 in c:\\users\\raely\\appdata\\local\\programs\\python\\python312\\lib\\site-packages (from jupyter-core!=5.0.*,>=4.12->nbformat->import-ipynb) (4.3.6)\n",
      "Requirement already satisfied: pywin32>=300 in c:\\users\\raely\\appdata\\local\\programs\\python\\python312\\lib\\site-packages (from jupyter-core!=5.0.*,>=4.12->nbformat->import-ipynb) (308)\n",
      "Requirement already satisfied: wcwidth in c:\\users\\raely\\appdata\\local\\programs\\python\\python312\\lib\\site-packages (from prompt_toolkit<3.1.0,>=3.0.41->IPython->import-ipynb) (0.2.13)\n",
      "Requirement already satisfied: executing>=1.2.0 in c:\\users\\raely\\appdata\\local\\programs\\python\\python312\\lib\\site-packages (from stack_data->IPython->import-ipynb) (2.2.0)\n",
      "Requirement already satisfied: asttokens>=2.1.0 in c:\\users\\raely\\appdata\\local\\programs\\python\\python312\\lib\\site-packages (from stack_data->IPython->import-ipynb) (3.0.0)\n",
      "Requirement already satisfied: pure-eval in c:\\users\\raely\\appdata\\local\\programs\\python\\python312\\lib\\site-packages (from stack_data->IPython->import-ipynb) (0.2.3)\n",
      "Requirement already satisfied: typing-extensions>=4.4.0 in c:\\users\\raely\\appdata\\local\\programs\\python\\python312\\lib\\site-packages (from referencing>=0.28.4->jsonschema>=2.6->nbformat->import-ipynb) (4.12.2)\n",
      "\n",
      "\n",
      "\n",
      "Welcome to the pattern recommendation system for Knit, Crochet, and Tunisian Crochet makers alike!\n",
      "You may begin by searching for pattern recommendations, or enter MENU to see menu options.\n"
     ]
    },
    {
     "name": "stdin",
     "output_type": "stream",
     "text": [
      "\n",
      "Please enter a description of the pattern for which you are looking, or enter MENU to view menu options:  menu\n"
     ]
    },
    {
     "name": "stdout",
     "output_type": "stream",
     "text": [
      "\n",
      "\n",
      "MENU\n",
      "1. Update program models and matrices (NOTE: the entire process may take several hours to complete).\n",
      "LAST UPDATE COMPLETED 2025-03-06 17:40:26.083379984.\n",
      "2. View pattern data visualizations.\n",
      "3. Exit.\n"
     ]
    },
    {
     "name": "stdin",
     "output_type": "stream",
     "text": [
      "Please enter the number corresponding to your selection. 1\n"
     ]
    },
    {
     "name": "stdout",
     "output_type": "stream",
     "text": [
      "Executing URL extraction from Ravelry. Please wait...\n",
      "Logged in to Ravelry successfully.\n",
      "sweater: Page 1 scraped. Found 48 unique patterns so far.\n",
      "shawl: Page 1 scraped. Found 48 unique patterns so far.\n",
      "scarf: Page 1 scraped. Found 48 unique patterns so far.\n",
      "cardigan: Page 1 scraped. Found 48 unique patterns so far.\n",
      "hat: Page 1 scraped. Found 48 unique patterns so far.\n",
      "mittens: Page 1 scraped. Found 48 unique patterns so far.\n",
      "crochet: Page 1 scraped. Found 48 unique patterns so far.\n",
      "vest: Page 1 scraped. Found 48 unique patterns so far.\n",
      "tunisian: Page 1 scraped. Found 48 unique patterns so far.\n",
      "cowl: Page 1 scraped. Found 48 unique patterns so far.\n",
      "Scraping complete. 397 unique pattern URLs saved to ravelry_pattern_urls.csv\n",
      "Executing data scraping from Ravelry. This process may take several minutes or hours. Please wait...\n",
      "Executing data preprocessing. Please wait...\n",
      "Executing TF-IDF on data. Please wait...\n",
      "Executing Word Embedding on data. Please wait...\n",
      "Executing Cosine Similarity processing on TF-IDF data. Please wait...\n",
      "Executing Cosine Similarity processing on Word Embedding data. Please wait...\n",
      "Executing Matrices Normalization processing on Word Embedding + TF-DF Cosine Similarity data. Please wait...\n",
      "Data processing complete. Hybrid TF-IDF + Word Embedding Cosine Similarity Matrix updated.\n",
      "Program is now ready to execute search queries.\n",
      "\n",
      "\n",
      "\n",
      "Welcome to the pattern recommendation system for Knit, Crochet, and Tunisian Crochet makers alike!\n",
      "You may begin by searching for pattern recommendations, or enter MENU to see menu options.\n"
     ]
    },
    {
     "name": "stdin",
     "output_type": "stream",
     "text": [
      "\n",
      "Please enter a description of the pattern for which you are looking, or enter MENU to view menu options:  menu\n"
     ]
    },
    {
     "name": "stdout",
     "output_type": "stream",
     "text": [
      "\n",
      "\n",
      "MENU\n",
      "1. Update program models and matrices (NOTE: the entire process may take several hours to complete).\n",
      "LAST UPDATE COMPLETED 2025-03-12 02:03:43.900990725.\n",
      "2. View pattern data visualizations.\n",
      "3. Exit.\n"
     ]
    },
    {
     "name": "stdin",
     "output_type": "stream",
     "text": [
      "Please enter the number corresponding to your selection. knit colorwork sweater dk\n"
     ]
    },
    {
     "name": "stdout",
     "output_type": "stream",
     "text": [
      "Invalid input. Please enter a number between 1 and 3.\n",
      "\n",
      "\n",
      "\n",
      "Welcome to the pattern recommendation system for Knit, Crochet, and Tunisian Crochet makers alike!\n",
      "You may begin by searching for pattern recommendations, or enter MENU to see menu options.\n"
     ]
    },
    {
     "name": "stdin",
     "output_type": "stream",
     "text": [
      "\n",
      "Please enter a description of the pattern for which you are looking, or enter MENU to view menu options:  knit colorwork sweater dk\n"
     ]
    },
    {
     "name": "stdout",
     "output_type": "stream",
     "text": [
      "Searching for similar patterns...\n"
     ]
    },
    {
     "data": {
      "text/html": [
       "<pre style=\"white-space:pre;overflow-x:auto;line-height:normal;font-family:Menlo,'DejaVu Sans Mono',consolas,'Courier New',monospace\"><span style=\"font-style: italic\">                                        🔍 Recommended Patterns                                        </span>\n",
       "┏━━━━━━━━━━━━━━━━━━━━┳━━━━━━━━━━━━━━━━━━┳━━━━━━━━━━━━━━━━━━━━━━━━━━━━━━━━━━━━━━━━━━━━━━━━━━━━━━━━━━━━━┓\n",
       "┃<span style=\"font-weight: bold\"> Pattern Name       </span>┃<span style=\"font-weight: bold\"> Designer         </span>┃<span style=\"font-weight: bold\"> URL                                                         </span>┃\n",
       "┡━━━━━━━━━━━━━━━━━━━━╇━━━━━━━━━━━━━━━━━━╇━━━━━━━━━━━━━━━━━━━━━━━━━━━━━━━━━━━━━━━━━━━━━━━━━━━━━━━━━━━━━┩\n",
       "│<span style=\"color: #008080; text-decoration-color: #008080; font-weight: bold\"> Herringbone Hat    </span>│<span style=\"color: #800080; text-decoration-color: #800080\"> Anne Mizoguchi   </span>│<span style=\"color: #008000; text-decoration-color: #008000\"> </span><span style=\"color: #0000ff; text-decoration-color: #0000ff; text-decoration: underline\">https://www.ravelry.com/patterns/library/herringbone-hat-7</span><span style=\"color: #008000; text-decoration-color: #008000\">  </span>│\n",
       "├────────────────────┼──────────────────┼─────────────────────────────────────────────────────────────┤\n",
       "│<span style=\"color: #008080; text-decoration-color: #008080; font-weight: bold\"> Autumn Doodle Hat  </span>│<span style=\"color: #800080; text-decoration-color: #800080\"> Jamie Lomax      </span>│<span style=\"color: #008000; text-decoration-color: #008000\"> </span><span style=\"color: #0000ff; text-decoration-color: #0000ff; text-decoration: underline\">https://www.ravelry.com/patterns/library/autumn-doodle-hat</span><span style=\"color: #008000; text-decoration-color: #008000\">  </span>│\n",
       "├────────────────────┼──────────────────┼─────────────────────────────────────────────────────────────┤\n",
       "│<span style=\"color: #008080; text-decoration-color: #008080; font-weight: bold\"> Framed             </span>│<span style=\"color: #800080; text-decoration-color: #800080\"> Andrea Mowry     </span>│<span style=\"color: #008000; text-decoration-color: #008000\"> </span><span style=\"color: #0000ff; text-decoration-color: #0000ff; text-decoration: underline\">https://www.ravelry.com/patterns/library/framed-11</span><span style=\"color: #008000; text-decoration-color: #008000\">          </span>│\n",
       "├────────────────────┼──────────────────┼─────────────────────────────────────────────────────────────┤\n",
       "│<span style=\"color: #008080; text-decoration-color: #008080; font-weight: bold\"> Merrymaking Cowl   </span>│<span style=\"color: #800080; text-decoration-color: #800080\"> Stephanie Lotven </span>│<span style=\"color: #008000; text-decoration-color: #008000\"> </span><span style=\"color: #0000ff; text-decoration-color: #0000ff; text-decoration: underline\">https://www.ravelry.com/patterns/library/merrymaking-cowl</span><span style=\"color: #008000; text-decoration-color: #008000\">   </span>│\n",
       "├────────────────────┼──────────────────┼─────────────────────────────────────────────────────────────┤\n",
       "│<span style=\"color: #008080; text-decoration-color: #008080; font-weight: bold\"> Haunted House Cowl </span>│<span style=\"color: #800080; text-decoration-color: #800080\"> Stephanie Lotven </span>│<span style=\"color: #008000; text-decoration-color: #008000\"> </span><span style=\"color: #0000ff; text-decoration-color: #0000ff; text-decoration: underline\">https://www.ravelry.com/patterns/library/haunted-house-cowl</span><span style=\"color: #008000; text-decoration-color: #008000\"> </span>│\n",
       "└────────────────────┴──────────────────┴─────────────────────────────────────────────────────────────┘\n",
       "</pre>\n"
      ],
      "text/plain": [
       "\u001b[3m                                        🔍 Recommended Patterns                                        \u001b[0m\n",
       "┏━━━━━━━━━━━━━━━━━━━━┳━━━━━━━━━━━━━━━━━━┳━━━━━━━━━━━━━━━━━━━━━━━━━━━━━━━━━━━━━━━━━━━━━━━━━━━━━━━━━━━━━┓\n",
       "┃\u001b[1m \u001b[0m\u001b[1mPattern Name      \u001b[0m\u001b[1m \u001b[0m┃\u001b[1m \u001b[0m\u001b[1mDesigner        \u001b[0m\u001b[1m \u001b[0m┃\u001b[1m \u001b[0m\u001b[1mURL                                                        \u001b[0m\u001b[1m \u001b[0m┃\n",
       "┡━━━━━━━━━━━━━━━━━━━━╇━━━━━━━━━━━━━━━━━━╇━━━━━━━━━━━━━━━━━━━━━━━━━━━━━━━━━━━━━━━━━━━━━━━━━━━━━━━━━━━━━┩\n",
       "│\u001b[1;36m \u001b[0m\u001b[1;36mHerringbone Hat   \u001b[0m\u001b[1;36m \u001b[0m│\u001b[35m \u001b[0m\u001b[35mAnne Mizoguchi  \u001b[0m\u001b[35m \u001b[0m│\u001b[32m \u001b[0m\u001b[4;94mhttps://www.ravelry.com/patterns/library/herringbone-hat-7\u001b[0m\u001b[32m \u001b[0m\u001b[32m \u001b[0m│\n",
       "├────────────────────┼──────────────────┼─────────────────────────────────────────────────────────────┤\n",
       "│\u001b[1;36m \u001b[0m\u001b[1;36mAutumn Doodle Hat \u001b[0m\u001b[1;36m \u001b[0m│\u001b[35m \u001b[0m\u001b[35mJamie Lomax     \u001b[0m\u001b[35m \u001b[0m│\u001b[32m \u001b[0m\u001b[4;94mhttps://www.ravelry.com/patterns/library/autumn-doodle-hat\u001b[0m\u001b[32m \u001b[0m\u001b[32m \u001b[0m│\n",
       "├────────────────────┼──────────────────┼─────────────────────────────────────────────────────────────┤\n",
       "│\u001b[1;36m \u001b[0m\u001b[1;36mFramed            \u001b[0m\u001b[1;36m \u001b[0m│\u001b[35m \u001b[0m\u001b[35mAndrea Mowry    \u001b[0m\u001b[35m \u001b[0m│\u001b[32m \u001b[0m\u001b[4;94mhttps://www.ravelry.com/patterns/library/framed-11\u001b[0m\u001b[32m         \u001b[0m\u001b[32m \u001b[0m│\n",
       "├────────────────────┼──────────────────┼─────────────────────────────────────────────────────────────┤\n",
       "│\u001b[1;36m \u001b[0m\u001b[1;36mMerrymaking Cowl  \u001b[0m\u001b[1;36m \u001b[0m│\u001b[35m \u001b[0m\u001b[35mStephanie Lotven\u001b[0m\u001b[35m \u001b[0m│\u001b[32m \u001b[0m\u001b[4;94mhttps://www.ravelry.com/patterns/library/merrymaking-cowl\u001b[0m\u001b[32m  \u001b[0m\u001b[32m \u001b[0m│\n",
       "├────────────────────┼──────────────────┼─────────────────────────────────────────────────────────────┤\n",
       "│\u001b[1;36m \u001b[0m\u001b[1;36mHaunted House Cowl\u001b[0m\u001b[1;36m \u001b[0m│\u001b[35m \u001b[0m\u001b[35mStephanie Lotven\u001b[0m\u001b[35m \u001b[0m│\u001b[32m \u001b[0m\u001b[4;94mhttps://www.ravelry.com/patterns/library/haunted-house-cowl\u001b[0m\u001b[32m \u001b[0m│\n",
       "└────────────────────┴──────────────────┴─────────────────────────────────────────────────────────────┘\n"
      ]
     },
     "metadata": {},
     "output_type": "display_data"
    },
    {
     "name": "stdout",
     "output_type": "stream",
     "text": [
      "\n",
      "\n",
      "\n",
      "Welcome to the pattern recommendation system for Knit, Crochet, and Tunisian Crochet makers alike!\n",
      "You may begin by searching for pattern recommendations, or enter MENU to see menu options.\n"
     ]
    },
    {
     "name": "stdin",
     "output_type": "stream",
     "text": [
      "\n",
      "Please enter a description of the pattern for which you are looking, or enter MENU to view menu options:  menu\n"
     ]
    },
    {
     "name": "stdout",
     "output_type": "stream",
     "text": [
      "\n",
      "\n",
      "MENU\n",
      "1. Update program models and matrices (NOTE: the entire process may take several hours to complete).\n",
      "LAST UPDATE COMPLETED 2025-03-12 02:03:43.900990725.\n",
      "2. View pattern data visualizations.\n",
      "3. Exit.\n"
     ]
    },
    {
     "name": "stdin",
     "output_type": "stream",
     "text": [
      "Please enter the number corresponding to your selection. 3\n"
     ]
    },
    {
     "name": "stdout",
     "output_type": "stream",
     "text": [
      "Exiting the program. Goodbye!\n"
     ]
    },
    {
     "ename": "SystemExit",
     "evalue": "",
     "output_type": "error",
     "traceback": [
      "An exception has occurred, use %tb to see the full traceback.\n",
      "\u001b[1;31mSystemExit\u001b[0m\n"
     ]
    },
    {
     "name": "stderr",
     "output_type": "stream",
     "text": [
      "C:\\Users\\raely\\AppData\\Local\\Programs\\Python\\Python312\\Lib\\site-packages\\IPython\\core\\interactiveshell.py:3587: UserWarning: To exit: use 'exit', 'quit', or Ctrl-D.\n",
      "  warn(\"To exit: use 'exit', 'quit', or Ctrl-D.\", stacklevel=1)\n"
     ]
    }
   ],
   "source": [
    "# This script utilizes open-source libraries for data processing, natural language processing (NLP),\n",
    "# machine learning, and web scraping. The following libraries are acknowledged:\n",
    "#\n",
    "# - Pandas: https://pandas.pydata.org/ (Data handling and manipulation)\n",
    "# - NumPy: https://numpy.org/ (Numerical computing)\n",
    "# - Scikit-learn: https://scikit-learn.org/ (TF-IDF vectorization, cosine similarity, preprocessing)\n",
    "# - Gensim: https://radimrehurek.com/gensim/ (Word2Vec embeddings for NLP)\n",
    "# - NLTK: https://www.nltk.org/ (Tokenization and POS tagging)\n",
    "# - Selenium: https://www.selenium.dev/ (Automated web scraping and browser interaction)\n",
    "# - BeautifulSoup: https://www.crummy.com/software/BeautifulSoup/ (HTML parsing for web scraping)\n",
    "# - Matplotlib: https://matplotlib.org/ (Data visualization, including 3D plots)\n",
    "# - Rich: https://github.com/Textualize/rich (Enhanced command-line text formatting)\n",
    "# - Pickle (Built-in Python module) for data serialization\n",
    "# - Requests: https://docs.python-requests.org/ (HTTP requests for web scraping)\n",
    "# - IPython.display: https://ipython.readthedocs.io/ (Displaying tables in Jupyter notebooks)\n",
    "# - Import-ipynb: https://pypi.org/project/import-ipynb/ (Enabling imports from Jupyter notebooks)\n",
    "#\n",
    "# All libraries are used under their respective open-source licenses for research and educational purposes.\n",
    "\n",
    "!pip install import-ipynb\n",
    "import pandas as pd\n",
    "import import_ipynb\n",
    "import ui\n",
    "\n",
    "ui.launch_ui()\n"
   ]
  }
 ],
 "metadata": {
  "kernelspec": {
   "display_name": "Python 3 (ipykernel)",
   "language": "python",
   "name": "python3"
  },
  "language_info": {
   "codemirror_mode": {
    "name": "ipython",
    "version": 3
   },
   "file_extension": ".py",
   "mimetype": "text/x-python",
   "name": "python",
   "nbconvert_exporter": "python",
   "pygments_lexer": "ipython3",
   "version": "3.12.0"
  }
 },
 "nbformat": 4,
 "nbformat_minor": 5
}
