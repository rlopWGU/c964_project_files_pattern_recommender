{
 "cells": [
  {
   "cell_type": "code",
   "execution_count": 1,
   "id": "d63cd338-69aa-4cb7-b49f-aa3bdc3c1736",
   "metadata": {},
   "outputs": [
    {
     "name": "stdout",
     "output_type": "stream",
     "text": [
      "Word2Vec model trained and saved\n",
      "261\n",
      "[('cardigan', 0.9655647873878479), ('oversize', 0.9548055529594421), ('cm3425', 0.9373598098754883), ('mos', 0.9350103139877319), ('lilykatemakes', 0.9279757142066956)]\n"
     ]
    }
   ],
   "source": [
    "!pip install numpy==1.26.4\n",
    "!pip install scipy gensim\n",
    "import pandas as pd\n",
    "import gensim\n",
    "from gensim.models import Word2Vec\n",
    "import nltk\n",
    "from nltk.tokenize import word_tokenize\n",
    "\n",
    "#Performs Word Embedding (Word2Vec) on preprocessed pattern data\n",
    "def process_data():\n",
    "    #Load data from patterns_pos.csv\n",
    "    df = pd.read_csv(\"patterns_pos.csv\")\n",
    "    df[\"filtered_keywords\"] = df[\"filtered_keywords\"].fillna(\"\")\n",
    "    \n",
    "    #Tokenize descriptions\n",
    "    df[\"tokenized_text\"] = df[\"filtered_keywords\"].astype(str).apply(word_tokenize)\n",
    "    \n",
    "    #Train Word2Vec model on our dataset\n",
    "    word2vec_model = Word2Vec(sentences = df[\"tokenized_text\"], vector_size = 100, window = 5, min_count = 1, workers = 4)\n",
    "    \n",
    "    #Save word2vec model\n",
    "    word2vec_model.save(\"patterns_word2vec.model\")\n"
   ]
  },
  {
   "cell_type": "code",
   "execution_count": null,
   "id": "d391630a-b893-4d51-a0f1-5d99802dda54",
   "metadata": {},
   "outputs": [],
   "source": []
  }
 ],
 "metadata": {
  "kernelspec": {
   "display_name": "Python 3 (ipykernel)",
   "language": "python",
   "name": "python3"
  },
  "language_info": {
   "codemirror_mode": {
    "name": "ipython",
    "version": 3
   },
   "file_extension": ".py",
   "mimetype": "text/x-python",
   "name": "python",
   "nbconvert_exporter": "python",
   "pygments_lexer": "ipython3",
   "version": "3.12.0"
  }
 },
 "nbformat": 4,
 "nbformat_minor": 5
}
