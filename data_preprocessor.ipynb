{
 "cells": [
  {
   "cell_type": "code",
   "execution_count": 1,
   "id": "5a503fbd-46b4-472d-8a34-40303656f46d",
   "metadata": {},
   "outputs": [
    {
     "name": "stdout",
     "output_type": "stream",
     "text": [
      "Preprocessing complete. Data saved to patterns_pos.csv.\n"
     ]
    }
   ],
   "source": [
    "!pip install nltk\n",
    "import pandas as pd\n",
    "import nltk\n",
    "from nltk.tokenize import word_tokenize\n",
    "from nltk import pos_tag\n",
    "nltk.download(\"punkt\")\n",
    "nltk.download(\"punkt_tab\")\n",
    "nltk.download(\"averaged_perceptron_tagger\")\n",
    "nltk.download(\"averaged_perceptron_tagger_eng\")\n",
    "\n",
    "#Imports raw pattern data, concatenates and applies POS tagging to the relevant fields, and exports the output to patterns_pos.csv\n",
    "def preprocess_data():\n",
    "    # Load the dataset\n",
    "    df = pd.read_csv(\"patterns_raw.csv\")\n",
    "    \n",
    "    # Fill missing values with empty strings to avoid NaN issues\n",
    "    df = df.fillna(\"\")\n",
    "    \n",
    "    # Concatenate structured metadata with description\n",
    "    df[\"combined_text\"] = (\n",
    "        df[\"description\"].astype(str).str.lower() + \" \" +\n",
    "        df[\"craft\"].astype(str).str.lower() + \" \" +\n",
    "        df[\"category\"].astype(str).str.lower() + \" \" +\n",
    "        df[\"yarn_weight\"].astype(str).str.lower() + \" \" +\n",
    "        df[\"tags\"].astype(str).str.lower()\n",
    "    )\n",
    "    \n",
    "    # Remove punctuation\n",
    "    df[\"cleaned_text\"] = df[\"combined_text\"].str.replace(r\"[^\\w\\s]\", \"\", regex=True)\n",
    "    \n",
    "    # Define function to tokenize text and apply POS tagging\n",
    "    def pos_tag_text(text):\n",
    "        tokens = word_tokenize(text)\n",
    "        tagged_words = pos_tag(tokens)\n",
    "        return tagged_words\n",
    "    \n",
    "    # Apply POS tagging to the combined field\n",
    "    df[\"pos_tags\"] = df[\"cleaned_text\"].apply(pos_tag_text)\n",
    "    \n",
    "    # Extract only nouns and adjectives (excluding verbs and other irrelevant words)\n",
    "    def extract_keywords(pos_tags):\n",
    "        keywords = [word for word, tag in pos_tags if tag in [\"NN\", \"NNS\", \"NNP\", \"NNPS\", \"JJ\", \"JJR\", \"JJS\"]]\n",
    "        return \" \".join(keywords)\n",
    "    \n",
    "    # Create a new column with extracted keywords\n",
    "    df[\"filtered_keywords\"] = df[\"pos_tags\"].apply(extract_keywords)\n",
    "    \n",
    "    # Save the processed dataset\n",
    "    df.to_csv(\"patterns_pos.csv\", index=False)\n"
   ]
  }
 ],
 "metadata": {
  "kernelspec": {
   "display_name": "Python 3 (ipykernel)",
   "language": "python",
   "name": "python3"
  },
  "language_info": {
   "codemirror_mode": {
    "name": "ipython",
    "version": 3
   },
   "file_extension": ".py",
   "mimetype": "text/x-python",
   "name": "python",
   "nbconvert_exporter": "python",
   "pygments_lexer": "ipython3",
   "version": "3.12.0"
  }
 },
 "nbformat": 4,
 "nbformat_minor": 5
}
