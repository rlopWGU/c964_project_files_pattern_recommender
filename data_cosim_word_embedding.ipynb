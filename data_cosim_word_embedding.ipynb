{
 "cells": [
  {
   "cell_type": "code",
   "execution_count": 1,
   "id": "0de16d97-b5e8-4b15-811f-2ca434669aa8",
   "metadata": {},
   "outputs": [
    {
     "name": "stdout",
     "output_type": "stream",
     "text": [
      "Vector representations saved to patterns_with_vectors.csv\n",
      "Cosine similarity matrix using word embeddings created and saved.\n"
     ]
    }
   ],
   "source": [
    "import numpy as np\n",
    "import pandas as pd\n",
    "import gensim\n",
    "import ast\n",
    "from sklearn.metrics.pairwise import cosine_similarity\n",
    "from IPython.display import display\n",
    "\n",
    "#Performs Cosine Similarity processing on Word Embeddings model\n",
    "def process_data():\n",
    "    #Load word2vec model\n",
    "    word2vec_model = gensim.models.Word2Vec.load(\"patterns_word2vec.model\")\n",
    "    \n",
    "    #Load preprocessed pattern data \n",
    "    df_patterns = pd.read_csv(\"patterns_pos.csv\")\n",
    "    \n",
    "    #Function to compute the vector representation of a pattern\n",
    "    def get_average_word_vector(text_tokens, model, vector_size=100):\n",
    "        vectors = [model.wv[word] for word in text_tokens if word in model.wv]\n",
    "        if len(vectors) == 0:\n",
    "            return np.zeros(vector_size) #Returns 0 vector if no words are found\n",
    "        return np.mean(vectors, axis = 0) #Returns average of word vectors\n",
    "    \n",
    "    #Convert filtered keywords from patterns_pos.csv to a list\n",
    "    df_patterns[\"pos_tags\"] = df_patterns[\"pos_tags\"].apply(ast.literal_eval)\n",
    "    \n",
    "    #Extract words only from list for use in vector representation\n",
    "    df_patterns[\"tokenized_text\"] = df_patterns[\"pos_tags\"].apply(lambda x: [word for word, tag in x])\n",
    "    \n",
    "    #Compute representation of all patterns\n",
    "    df_patterns[\"vector_representation\"] = df_patterns[\"tokenized_text\"].apply(lambda tokens: get_average_word_vector(tokens, word2vec_model))\n",
    "    \n",
    "    #Convert list of vectors into a 2D NumPy array\n",
    "    pattern_vectors = np.vstack(df_patterns[\"vector_representation\"].values)\n",
    "    \n",
    "    #Compute cosine similarity matrix\n",
    "    cosine_sim_matrix_embeddings = cosine_similarity(pattern_vectors)\n",
    "    \n",
    "    #Convert similarity matrix to DF\n",
    "    cosine_sim_df_embeddings = pd.DataFrame(cosine_sim_matrix_embeddings, index = df_patterns.index, columns = df_patterns.index)\n",
    "    \n",
    "    #Convert list of vectors to strings and save\n",
    "    df_patterns[\"vector_representation\"] = df_patterns[\"vector_representation\"].apply(lambda vec: ','.join(map(str, vec)))\n",
    "    df_patterns.to_csv(\"patterns_with_vectors.csv\", index = False)\n",
    "    \n",
    "    #Save the matrix\n",
    "    cosine_sim_df_embeddings.to_csv(\"patterns_cosim_embedding.csv\")\n",
    "    \n",
    "#Returns top 5 similar patterns compared to pattern at given index\n",
    "def get_similar_patterns_embeddings(pattern_index, top_n = 5):\n",
    "    #Get similarity scores for given pattern\n",
    "    similarity_scores = cosine_sim_df_embeddings.iloc[pattern_index] #Might have a variable locality issue here because cosine_sim_df_embeddings is defined locally in process_data...but do we even need this function here at all? Will it ever be called?\n",
    "\n",
    "    #Sort patterns by similarity (excluding self)\n",
    "    similar_patterns = similarity_scores.sort_values(ascending = False).iloc[1:top_n+1]\n",
    "\n",
    "    #Formatting results for readability \n",
    "    results = pd.DataFrame({\n",
    "        \"Pattern Name\": df_patterns.loc[similar_patterns.index, \"name\"].values,\n",
    "        \"URL\": df_patterns.loc[similar_patterns.index, \"url\"].values,\n",
    "        \"Cosine Similarity Score\": similar_patterns.values\n",
    "    })\n",
    "    return results"
   ]
  }
 ],
 "metadata": {
  "kernelspec": {
   "display_name": "Python 3 (ipykernel)",
   "language": "python",
   "name": "python3"
  },
  "language_info": {
   "codemirror_mode": {
    "name": "ipython",
    "version": 3
   },
   "file_extension": ".py",
   "mimetype": "text/x-python",
   "name": "python",
   "nbconvert_exporter": "python",
   "pygments_lexer": "ipython3",
   "version": "3.12.0"
  }
 },
 "nbformat": 4,
 "nbformat_minor": 5
}
