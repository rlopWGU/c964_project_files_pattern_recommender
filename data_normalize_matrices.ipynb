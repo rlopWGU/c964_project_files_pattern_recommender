{
 "cells": [
  {
   "cell_type": "code",
   "execution_count": 1,
   "id": "7af83c7d-1c74-4965-8914-2b0416b60bc6",
   "metadata": {},
   "outputs": [
    {
     "name": "stdout",
     "output_type": "stream",
     "text": [
      "Hybrid similarity matrix created and saved as patterns_cosim_hybrid.csv\n"
     ]
    }
   ],
   "source": [
    "from sklearn.preprocessing import MinMaxScaler\n",
    "import pandas as pd\n",
    "from IPython.display import display\n",
    "\n",
    "def process_data():\n",
    "    #Load similarity matrices\n",
    "    cosine_sim_tfidf = pd.read_csv(\"patterns_cosim_tfidf.csv\", index_col = 0)\n",
    "    cosine_sim_embeddings = pd.read_csv(\"patterns_cosim_embedding.csv\", index_col = 0)\n",
    "    \n",
    "    #NORMALIZE THE MATRICES USING MIN-MAX SCALING\n",
    "    #Convert to NumPy arrays\n",
    "    tfidf_matrix = cosine_sim_tfidf.values\n",
    "    embedding_matrix = cosine_sim_embeddings.values\n",
    "    \n",
    "    #Apply MinMaxScaler\n",
    "    scaler = MinMaxScaler()\n",
    "    tfidf_scaled = scaler.fit_transform(tfidf_matrix)\n",
    "    embedding_scaled = scaler.fit_transform(embedding_matrix)\n",
    "    \n",
    "    #Convert back to DF\n",
    "    cosine_sim_tfidf_scaled = pd.DataFrame(tfidf_scaled, index = cosine_sim_tfidf.index, columns = cosine_sim_tfidf.columns)\n",
    "    cosine_sim_embeddings_scaled = pd.DataFrame(embedding_scaled, index = cosine_sim_embeddings.index, columns = cosine_sim_embeddings.columns)\n",
    "    \n",
    "    #Weight factor (TODO: confirm weight accuracy and adjust if needed)\n",
    "    alpha = 0.5 #equal weight applied to both methods\n",
    "    \n",
    "    #Compute and save hybrid similarity matrix\n",
    "    cosine_sim_hybrid = (alpha * cosine_sim_tfidf_scaled) + ((1 - alpha) * cosine_sim_embeddings_scaled)\n",
    "    cosine_sim_hybrid.to_csv(\"patterns_cosim_hybrid.csv\")\n",
    "\n",
    "#Function to use hybrid similarity matrix, returns top 5 similar patterns compared to pattern in patterns_cosim_hybrid at given index\n",
    "def get_similar_patterns_hybrid(pattern_index, top_n = 5):\n",
    "    df_patterns = pd.read_csv(\"patterns_pos.csv\")\n",
    "    df_patterns.index = df_patterns.index.astype(int)\n",
    "    \n",
    "    cosine_sim_hybrid = pd.read_csv(\"patterns_cosim_hybrid.csv\", index_col = 0)\n",
    "    cosine_sim_hybrid.index = cosine_sim_hybrid.index.astype(int)\n",
    "    cosine_sim_hybrid.columns = cosine_sim_hybrid.columns.astype(int)\n",
    "    \n",
    "    #Get similarity scores\n",
    "    similarity_scores = cosine_sim_hybrid.iloc[pattern_index]\n",
    "\n",
    "    #Sort by similarity\n",
    "    similar_patterns = similarity_scores.sort_values(ascending = False).iloc[1:top_n+1]\n",
    "\n",
    "    #Format results\n",
    "    results = pd.DataFrame({\n",
    "        \"Pattern Name\": df_patterns.loc[similar_patterns.index, \"name\"].values,\n",
    "        \"URL\": df_patterns.loc[similar_patterns.index, \"url\"].values,\n",
    "        \"Hybrid Cosine Similarity Score\": similar_patterns.values\n",
    "    })\n",
    "    return results\n",
    "\n"
   ]
  }
 ],
 "metadata": {
  "kernelspec": {
   "display_name": "Python 3 (ipykernel)",
   "language": "python",
   "name": "python3"
  },
  "language_info": {
   "codemirror_mode": {
    "name": "ipython",
    "version": 3
   },
   "file_extension": ".py",
   "mimetype": "text/x-python",
   "name": "python",
   "nbconvert_exporter": "python",
   "pygments_lexer": "ipython3",
   "version": "3.12.0"
  }
 },
 "nbformat": 4,
 "nbformat_minor": 5
}
