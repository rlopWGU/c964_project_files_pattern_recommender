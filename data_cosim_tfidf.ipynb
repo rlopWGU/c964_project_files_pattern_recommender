{
 "cells": [
  {
   "cell_type": "code",
   "execution_count": 1,
   "id": "dfb62c9d-28db-4f94-9671-1ff0be4e69da",
   "metadata": {},
   "outputs": [
    {
     "name": "stdout",
     "output_type": "stream",
     "text": [
      "Cosine Similarity matrix computed and saved\n"
     ]
    }
   ],
   "source": [
    "import pandas as pd\n",
    "from sklearn.metrics.pairwise import cosine_similarity\n",
    "from IPython.display import display\n",
    "\n",
    "#Performs Cosine Similarity processing on TF-IDF matrix\n",
    "def process_data():\n",
    "    global cosine_sim_df\n",
    "    \n",
    "    #Load TF-IDF matrix\n",
    "    tfidf_df = pd.read_csv(\"patterns_tfidf.csv\")\n",
    "    \n",
    "    #Compute cosine similarity matrix\n",
    "    cosine_sim_matrix = cosine_similarity(tfidf_df)\n",
    "    \n",
    "    #Convert to DF\n",
    "    cosine_sim_df = pd.DataFrame(cosine_sim_matrix, index = tfidf_df.index, columns = tfidf_df.index)\n",
    "    \n",
    "    #Save matrix to csv file\n",
    "    cosine_sim_df.to_csv(\"patterns_cosim_tfidf.csv\")\n",
    "\n",
    "#Returns top 5 similar patterns compared to pattern in patterns_pos at given index\n",
    "def get_similar_patterns(pattern_index, top_n = 5):\n",
    "    #Get similarity scores for given pattern\n",
    "    similarity_scores = cosine_sim_df.iloc[pattern_index]\n",
    "\n",
    "    #Sort patterns by similarity (excluding self)\n",
    "    similar_patterns = similarity_scores.sort_values(ascending = False).iloc[1:top_n+1]\n",
    "\n",
    "    #Load original dataset to format output for testing\n",
    "    df_patterns = pd.read_csv(\"patterns_pos.csv\")\n",
    "    results = pd.DataFrame({\n",
    "        \"Pattern name\": df_patterns.loc[similar_patterns.index, \"name\"].values,\n",
    "        \"URL\": df_patterns.loc[similar_patterns.index, \"url\"].values,\n",
    "        \"Cosine Similarity Score\": similar_patterns.values\n",
    "    })\n",
    "\n",
    "    return results"
   ]
  }
 ],
 "metadata": {
  "kernelspec": {
   "display_name": "Python 3 (ipykernel)",
   "language": "python",
   "name": "python3"
  },
  "language_info": {
   "codemirror_mode": {
    "name": "ipython",
    "version": 3
   },
   "file_extension": ".py",
   "mimetype": "text/x-python",
   "name": "python",
   "nbconvert_exporter": "python",
   "pygments_lexer": "ipython3",
   "version": "3.12.0"
  }
 },
 "nbformat": 4,
 "nbformat_minor": 5
}
