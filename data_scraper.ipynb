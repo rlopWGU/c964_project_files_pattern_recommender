{
 "cells": [
  {
   "cell_type": "code",
   "execution_count": 1,
   "id": "49931f7d-59f9-46d0-b841-9ce833390075",
   "metadata": {},
   "outputs": [
    {
     "name": "stdout",
     "output_type": "stream",
     "text": [
      "Scraped data saved to patterns_raw.csv\n"
     ]
    }
   ],
   "source": [
    "# Dataset Source:\n",
    "# This dataset was collected from publicly available knitting and crochet pattern pages on Ravelry.\n",
    "# Official website: https://www.ravelry.com\n",
    "# The collected metadata includes pattern titles, designer names, descriptions, fiber types, skill levels, and tags.\n",
    "# The data is used exclusively for research purposes to enhance pattern search functionality using NLP.\n",
    "\n",
    "import requests\n",
    "from bs4 import BeautifulSoup\n",
    "import pandas as pd\n",
    "import time\n",
    "\n",
    "#Scrapes raw data from Ravelry.com pattern pages and stores them in an organized CSV file. There is no data preprocesing performed in this script.\n",
    "def scrape_data():\n",
    "    df_urls = pd.read_csv(\"ravelry_pattern_urls.csv\")\n",
    "    pattern_urls = df_urls[\"URL\"].tolist()\n",
    "    \n",
    "    #GET request\n",
    "    headers = {\"User-Agent\" : \"Mozilla/5.0\"}\n",
    "    \n",
    "    #Find pattern details\n",
    "    patterns = []\n",
    "    for url in pattern_urls:\n",
    "        response = requests.get(url, headers = headers)\n",
    "        \n",
    "        #Parse HTML\n",
    "        soup = BeautifulSoup(response.text, \"html.parser\")\n",
    "    \n",
    "        #Extract pattern details\n",
    "        name = soup.find(\"h2\", class_=\"rsp_hidden\").text.strip() if soup.find(\"h2\", class_=\"rsp_hidden\") else \"N/A\"\n",
    "        designer = soup.select_one(\".pattern_author a\").text.strip() if soup.select_one(\".pattern_author a\") else \"N/A\"\n",
    "        craft = soup.find(\"label\", string=\"Craft\").find_next(\"div\", class_=\"value\").text.strip() if soup.find(\"label\", string=\"Craft\") else \"N/A\"\n",
    "        category = \" → \".join([span.text.strip() for span in soup.select(\"div.category span\")]) if soup.select(\"div.category span\") else \"N/A\"\n",
    "        yarn_weight_field = None\n",
    "        for field in soup.find_all(\"div\", class_=\"field core_item_content__field\"):\n",
    "            label = field.find(\"label\", class_=\"core_item_content__label\")\n",
    "            if label and \"Yarn weight\" in label.get_text():\n",
    "                yarn_weight_field = field\n",
    "                break  \n",
    "        yarn_weight = yarn_weight_field.find(\"div\", class_=\"value\").get_text(strip=True) if yarn_weight_field else \"N/A\"\n",
    "        gauge = soup.find(\"label\", string=\"Gauge\").find_next(\"div\", class_=\"value\").text.strip() if soup.find(\"label\", string=\"Gauge\") else \"N/A\"\n",
    "        needle_size = \", \".join([div.text.strip() for div in soup.select(\"label:-soup-contains('Needle size') + div.value\")]) if soup.select(\"label:-soup-contains('Needle size') + div.value\") else \"N/A\"\n",
    "        yardage = soup.find(\"label\", string=\"Yardage\").find_next(\"div\", class_=\"value\").text.strip() if soup.find(\"label\", string=\"Yardage\") else \"N/A\"\n",
    "        sizes_available = soup.find(\"label\", string=\"Sizes available\").find_next(\"div\", class_=\"value\").text.strip() if soup.find(\"label\", string=\"Sizes available\") else \"N/A\"\n",
    "    \n",
    "        # Extract tags/attributes\n",
    "        tags = \", \".join([tag.text.strip() for tag in soup.select(\"li.tag a\")]) if soup.select(\"li.tag a\") else \"N/A\"\n",
    "    \n",
    "        # Extract pattern description\n",
    "        description_div = soup.select_one(\".notes.markdown.core_item_content__text_block\")\n",
    "        description = description_div.text.strip() if description_div else \"N/A\"\n",
    "    \n",
    "        #Extract languages field\n",
    "        languages = \", \".join([lang.get_text(strip=True) for lang in soup.select(\"label:-soup-contains('Languages') + div.value span\")]) if soup.select(\"label:-soup-contains('Languages') + div.value span\") else \"N/A\"\n",
    "        \n",
    "        # Store data\n",
    "        patterns.append([name, designer, craft, category, yarn_weight, gauge, needle_size, yardage, sizes_available, languages, tags, description, url])\n",
    "        time.sleep(1)\n",
    "    \n",
    "    #Convert to DataFrame\n",
    "    df = pd.DataFrame(patterns, columns=[\"name\", \"designer\", \"craft\", \"category\", \"yarn_weight\", \"gauge\", \"needle_size\", \"yardage\", \"sizes_available\", \"languages\", \"tags\", \"description\", \"url\"])\n",
    "    \n",
    "    #Save to CSV\n",
    "    df.to_csv(\"patterns_raw.csv\", index=False)\n"
   ]
  }
 ],
 "metadata": {
  "kernelspec": {
   "display_name": "Python 3 (ipykernel)",
   "language": "python",
   "name": "python3"
  },
  "language_info": {
   "codemirror_mode": {
    "name": "ipython",
    "version": 3
   },
   "file_extension": ".py",
   "mimetype": "text/x-python",
   "name": "python",
   "nbconvert_exporter": "python",
   "pygments_lexer": "ipython3",
   "version": "3.12.0"
  }
 },
 "nbformat": 4,
 "nbformat_minor": 5
}
