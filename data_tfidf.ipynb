{
 "cells": [
  {
   "cell_type": "code",
   "execution_count": 1,
   "id": "8bdb17f4-fd86-4d03-bcbd-2de3f6993b10",
   "metadata": {},
   "outputs": [
    {
     "name": "stdout",
     "output_type": "stream",
     "text": [
      "TF-IDF transformation of preprocessed data completed and data saved to patterns_tfidf.csv\n",
      "TF-IDF vectorizer saved as tfidf_vectorizer.pkl\n",
      "TF-IDF vectorizer saved as tfidf_matrix.pkl\n"
     ]
    }
   ],
   "source": [
    "!pip install scikit-learn\n",
    "import pandas as pd\n",
    "from sklearn.feature_extraction.text import TfidfVectorizer\n",
    "import pickle\n",
    "\n",
    "#Performs TF-IDF processing on preprocessed pattern data\n",
    "def process_data():\n",
    "    #Load preprocessed data\n",
    "    df = pd.read_csv(\"patterns_pos.csv\")\n",
    "    df[\"filtered_keywords\"] = df[\"filtered_keywords\"].fillna(\"\") #handle NaN values\n",
    "    \n",
    "    #Initialize TF-IDF Vectorizer\n",
    "    tfidf_vectorizer = TfidfVectorizer(\n",
    "        max_features = 500,\n",
    "        stop_words = \"english\",\n",
    "        ngram_range = (1, 2)\n",
    "    )\n",
    "    \n",
    "    #Apply TF-IDF to the filtered keywords (patterns_pos.csv) and produce a matrix\n",
    "    tfidf_matrix = tfidf_vectorizer.fit_transform(df[\"filtered_keywords\"])\n",
    "    \n",
    "    #Convert matrix to DataFrame\n",
    "    tfidf_df = pd.DataFrame(tfidf_matrix.toarray(), columns = tfidf_vectorizer.get_feature_names_out())\n",
    "    \n",
    "    #Save DF data to new CSV file\n",
    "    tfidf_df.to_csv(\"patterns_tfidf.csv\", index=False)\n",
    "    \n",
    "    # Save the vectorizer and matrix to files\n",
    "    with open(\"tfidf_vectorizer.pkl\", \"wb\") as f:\n",
    "        pickle.dump(tfidf_vectorizer, f)\n",
    "    \n",
    "    with open(\"tfidf_matrix.pkl\", \"wb\") as f:\n",
    "        pickle.dump(tfidf_matrix, f)\n"
   ]
  },
  {
   "cell_type": "code",
   "execution_count": null,
   "id": "7267040a-0bb4-453f-84c4-6ac2e82eb492",
   "metadata": {},
   "outputs": [],
   "source": []
  }
 ],
 "metadata": {
  "kernelspec": {
   "display_name": "Python 3 (ipykernel)",
   "language": "python",
   "name": "python3"
  },
  "language_info": {
   "codemirror_mode": {
    "name": "ipython",
    "version": 3
   },
   "file_extension": ".py",
   "mimetype": "text/x-python",
   "name": "python",
   "nbconvert_exporter": "python",
   "pygments_lexer": "ipython3",
   "version": "3.12.0"
  }
 },
 "nbformat": 4,
 "nbformat_minor": 5
}
